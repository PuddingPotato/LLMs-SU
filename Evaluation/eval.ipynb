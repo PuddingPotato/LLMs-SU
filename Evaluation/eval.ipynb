{
 "cells": [
  {
   "cell_type": "code",
   "execution_count": 1,
   "metadata": {},
   "outputs": [],
   "source": [
    "import pandas as pd"
   ]
  },
  {
   "cell_type": "code",
   "execution_count": 2,
   "metadata": {},
   "outputs": [],
   "source": [
    "data1 = pd.read_csv(r'C:\\Users\\User\\Desktop\\Project LLMs\\RAG-LangChain\\evaluation\\cohere-llama-history.csv', usecols = ['input_input', 'output_answer'])\n",
    "data2 = pd.read_csv(r'C:\\Users\\User\\Desktop\\Project LLMs\\RAG-LangChain\\evaluation\\cohere-typhoon-history.csv', usecols = ['input_input', 'output_answer'])"
   ]
  },
  {
   "cell_type": "code",
   "execution_count": null,
   "metadata": {},
   "outputs": [
    {
     "name": "stdout",
     "output_type": "stream",
     "text": [
      "Question: หมายเหตุของวิชา WEB APPLICATION DEVELOPMENT\n",
      "Answer: ไม่มีหมายเหตุของวิชา WEB APPLICATION DEVELOPMENT ในข้อมูลที่ให้มาครับ/ค่ะ\n",
      "Question: วิชา โลกและดาราศาสตร์ในสหัสวรรษที่ 3 เป็นวิชาของภาควิชาใด\n",
      "Answer: วิชา \"โลกและดาราศาสตร์ในสหัสวรรษที่ 3\" เป็นวิชาของภาควิชาวิทยาศาสตร์ หมวดวิชาพื้นฐานคณะวิทยาศาสตร์\n"
     ]
    }
   ],
   "source": [
    "scores = []\n",
    "\n",
    "for question, answer in data1.values:\n",
    "    print(f'Question: {question}')\n",
    "    print(f'Answer: {answer}')\n",
    "    score = int(input('Input Score (0 or 1): '))\n",
    "    scores.append(score)\n",
    "    print('\\n')"
   ]
  }
 ],
 "metadata": {
  "kernelspec": {
   "display_name": "LangChain",
   "language": "python",
   "name": "python3"
  },
  "language_info": {
   "codemirror_mode": {
    "name": "ipython",
    "version": 3
   },
   "file_extension": ".py",
   "mimetype": "text/x-python",
   "name": "python",
   "nbconvert_exporter": "python",
   "pygments_lexer": "ipython3",
   "version": "3.12.0"
  }
 },
 "nbformat": 4,
 "nbformat_minor": 2
}
