{
 "cells": [
  {
   "cell_type": "code",
   "execution_count": 16,
   "metadata": {},
   "outputs": [],
   "source": [
    "from dotenv import load_dotenv\n",
    "import os\n",
    "import time\n",
    "\n",
    "from langchain_community.vectorstores import FAISS\n",
    "from langchain_cohere import CohereEmbeddings\n",
    "from langchain_ollama import OllamaEmbeddings\n",
    "from langchain_nvidia_ai_endpoints import ChatNVIDIA\n",
    "from langchain_openai import ChatOpenAI\n",
    "from langchain_core.prompts import ChatPromptTemplate\n",
    "from langchain.chains.combine_documents import create_stuff_documents_chain\n",
    "from langchain.chains.retrieval import create_retrieval_chain"
   ]
  },
  {
   "cell_type": "code",
   "execution_count": 17,
   "metadata": {},
   "outputs": [],
   "source": [
    "load_dotenv(dotenv_path = r'C:\\Users\\User\\Desktop\\Project LLMs\\RAG-LangChain\\data\\.env')\n",
    "nvidia_api_key = os.getenv('NVIDIA_API_KEY')\n",
    "typhoon_ai_api_key = os.getenv('TYPHOON_AI_API_KEY')\n",
    "langsmith_api_key = os.getenv('LANGSMITH_API_KEY')\n",
    "cohere_api_key = os.getenv('COHERE_API_KEY')"
   ]
  },
  {
   "cell_type": "code",
   "execution_count": 18,
   "metadata": {},
   "outputs": [],
   "source": [
    "os.environ['LANGCHAIN_API_KEY'] = langsmith_api_key\n",
    "os.environ['LANGSMITH_TRACING'] = 'true'"
   ]
  },
  {
   "cell_type": "code",
   "execution_count": 19,
   "metadata": {},
   "outputs": [
    {
     "data": {
      "text/plain": [
       "40"
      ]
     },
     "execution_count": 19,
     "metadata": {},
     "output_type": "execute_result"
    }
   ],
   "source": [
    "with open(r'C:\\Users\\User\\Desktop\\Project LLMs\\RAG-LangChain\\Evaluation\\test_question.txt', 'r', encoding=\"utf-8\") as file:\n",
    "    test_questions = file.readlines()\n",
    "\n",
    "test_questions = [question.strip() for question in test_questions]\n",
    "len(test_questions)"
   ]
  },
  {
   "cell_type": "code",
   "execution_count": 20,
   "metadata": {},
   "outputs": [],
   "source": [
    "cohere_embedding_model = CohereEmbeddings(model=\"embed-multilingual-v3.0\",\n",
    "                                           cohere_api_key = cohere_api_key)\n",
    "bge_m3_embedding_model = OllamaEmbeddings(model=\"bge-m3:latest\")"
   ]
  },
  {
   "cell_type": "code",
   "execution_count": 21,
   "metadata": {},
   "outputs": [],
   "source": [
    "cohere_vectorstore = FAISS.load_local(r\"C:\\Users\\User\\Desktop\\Project LLMs\\RAG-LangChain\\data\\vectorstore\\faiss_index_cohere\", cohere_embedding_model, allow_dangerous_deserialization = True)\n",
    "bge_m3_vectorstore = FAISS.load_local(r\"C:\\Users\\User\\Desktop\\Project LLMs\\RAG-LangChain\\data\\vectorstore\\faiss_index_bge_m3\", bge_m3_embedding_model, allow_dangerous_deserialization = True)"
   ]
  },
  {
   "cell_type": "code",
   "execution_count": 22,
   "metadata": {},
   "outputs": [],
   "source": [
    "nvidiallama33_70 = ChatNVIDIA(model=\"meta/llama-3.3-70b-instruct\",\n",
    "                                api_key = nvidia_api_key)\n",
    "\n",
    "openaityphoon2_70 = ChatOpenAI(base_url = 'https://api.opentyphoon.ai/v1',\n",
    "                        model = 'typhoon-v2-70b-instruct',\n",
    "                        api_key = typhoon_ai_api_key)"
   ]
  },
  {
   "cell_type": "code",
   "execution_count": 23,
   "metadata": {},
   "outputs": [],
   "source": [
    "vectorstores = {'cohere': cohere_vectorstore,\n",
    "                'bge_m3': bge_m3_vectorstore}\n",
    "\n",
    "llms = {'llama33_70': nvidiallama33_70,\n",
    "        'typhoon2_70': openaityphoon2_70}\n",
    "\n",
    "projects = ['Cohere - LLaMA3.3 70B', 'Cohere - TYPHOON AI 2 70B', 'BGE M3 - LLaMA3.3 70B', 'BGE M3 - TYPHOON AI 2 70B']"
   ]
  },
  {
   "cell_type": "code",
   "execution_count": 24,
   "metadata": {},
   "outputs": [],
   "source": [
    "def build_retriever_chain(model, vectorstore):\n",
    "    prompt = ChatPromptTemplate.from_messages([\n",
    "        (\"system\", \"You are Junior, a friendly and knowledgeable male AI assistant.\\nYour role is to assist users by providing academic advice, explanations, and helpful insights based on the given context.\\nAlways ensure your responses are clear, concise, and easy to understand.\\nUse only the provided context to answer questions, and do not rely on external knowledge.\\nIf the context lacks sufficient information, politely ask the user for clarification.\\nContext: {context}\"),\n",
    "        ('human', \"{input}\")\n",
    "    ])\n",
    "\n",
    "    chain = create_stuff_documents_chain(\n",
    "        llm = model,\n",
    "        prompt = prompt\n",
    "    )\n",
    "\n",
    "    retriever = vectorstore.as_retriever()\n",
    "\n",
    "    retriever_chain = create_retrieval_chain(\n",
    "        retriever = retriever,\n",
    "        combine_docs_chain = chain\n",
    "    )\n",
    "\n",
    "    return retriever_chain\n"
   ]
  },
  {
   "cell_type": "code",
   "execution_count": 25,
   "metadata": {},
   "outputs": [],
   "source": [
    "samples = test_questions[:2]"
   ]
  },
  {
   "cell_type": "code",
   "execution_count": 26,
   "metadata": {},
   "outputs": [
    {
     "name": "stdout",
     "output_type": "stream",
     "text": [
      "Vector Name: cohere\n",
      "Model Name: llama33_70\n",
      "Setting project to: Cohere - LLaMA3.3 70B\n",
      "Processing Question 1...\n",
      "Question-Answering Test 1:\n",
      "  Question: วิชาที่เปิดสอนสำหรับภาควิชาเคมีชั้่นปีที่ 1 ปีการศึกษา 2567 เทอม 1 มาสัก 1 วิชา\n",
      "  Answer: วิชาเคมีทั่วไป 1 หรือ GENERAL CHEMISTRY I รหัสวิชา 513101-2560 และ 513101-165 มีรายละเอียดการเรียนการสอดังนี้\n",
      "\n",
      "- ปริมาณสัมพันธ์ \n",
      "- โครงสร้างอะตอมและสมบัติของธาตุตามตารางธาตุ \n",
      "- พันธะเคมี \n",
      "- แก๊ส \n",
      "- ของแข็ง \n",
      "- เทอร์โมไดนามิกส์ หรือ อุณหพลศาสตร์ \n",
      "\n",
      "มี 2 กลุ่ม โดยกลุ่มที่ 1 เปิดสอนให้กับนักศึกษาสาขาชีวภาพ แวดล้อม กระบวนการ เคมี ปี1-3 และกลุ่มที่ 2 เปิดสอนให้กับนักศึกษาสาขาชีวะ จุล ฟิสิกส์ ปิโตร อาหาร ปี1-3 และมี 2 คาบเรียน คือ วันพุธและวันศุกร์\n",
      "-----------------------------------------------\n",
      "Processing Question 2...\n",
      "Question-Answering Test 2:\n",
      "  Question: ช่วยแนะนำวิชาสำหรับภาควิชาคณิตศาสตร์หน่อยสัก 1 วิชา\n",
      "  Answer: สำหรับภาควิชาคณิตศาสตร์แนะนำวิชา \"เรื่องคัดเฉพาะทางคณิตศาสตร์ 1\" รหัสวิชา 511481-2560 หน่วยกิต 3 ซึ่งเป็นวิชาบังคับของสาขาคณิตปี4-8 โดยมีรายละเอียดดังนี้\n",
      "- ชื่ออาจารย์ผู้สอน: ศาสตราจารย์ ดร.ไพโรจน์ สัตยธรรม\n",
      "- วันที่นัดสอบกลางภาค: ไม่ได้ระบุวันสอบกลางภาค\n",
      "- วันที่นัดสอบปลายภาค: 30 ต.ค. 2567 เวลา 13:30 - 16:30 อาคาร วิทย์4 ห้อง 4203 ว.4\n",
      "- ตารางเรียน/คาบเรียน: วันพฤหัสบดี เวลา 13:00-15:40น. ห้องเรียน 4320 ว.4 อาคาร วิทย์4 ประเภทการสอน Lecture(ทฤษฏี)\n",
      "-----------------------------------------------\n",
      "Finished project: Cohere - LLaMA3.3 70B\n",
      "\\n#==================================#\\n\n",
      "Model Name: typhoon2_70\n",
      "Setting project to: Cohere - TYPHOON AI 2 70B\n",
      "Processing Question 1...\n",
      "Question-Answering Test 1:\n",
      "  Question: วิชาที่เปิดสอนสำหรับภาควิชาเคมีชั้่นปีที่ 1 ปีการศึกษา 2567 เทอม 1 มาสัก 1 วิชา\n",
      "  Answer: สำหรับภาควิชาเคมีในปีการศึกษา 2567 เทอม 1 มีวิชาที่เปิดสอนสำหรับนักศึกษาชั้นปีที่ 1 คือ \"เคมีทั่วไป 1\" หรือ \"GENERAL CHEMISTRY I\" โดยมีรหัสวิชา 513101-165 และจำนวนหน่วยกิต 3 หน่วยกิต วิชานี้ไม่มีเงื่อนไขการลงทะเบียนเรียน และมีรายละเอียดการเรียนการสอนเกี่ยวกับปริมาณสัมพันธ์ โครงสร้างอะตอมและสมบัติของธาตุตามตารางธาตุ พันธะเคมี แก๊ส ของแข็ง อุณหพลศาสตร์ เป็นต้น\n",
      "-----------------------------------------------\n",
      "Processing Question 2...\n",
      "Question-Answering Test 2:\n",
      "  Question: ช่วยแนะนำวิชาสำหรับภาควิชาคณิตศาสตร์หน่อยสัก 1 วิชา\n",
      "  Answer: สำหรับภาควิชาคณิตศาสตร์ ผมขอแนะนำวิชา \"เรื่องคัดเฉพาะทางคณิตศาสตร์ 1\" (SELECTED TOPICS IN MATHEMATICS I) รหัสวิชา 511481-2560 จำนวนหน่วยกิต 3 หน่วย ซึ่งเป็นวิชาบังคับของสาขาคณิตปี 4-8 โดยไม่มีเงื่อนไขการลงทะเบียนเรียน และมีการสอนโดยศาสตราจารย์ ดร.ไพโรจน์ สัตยธรรม ในวันพฤหัสบดี เวลา 13:00-15:40 น. ที่ห้อง 4320 ว.4 อาคารวิทย์ 4 ประเภทการสอนเป็น Lecture (ทฤษฎี)\n",
      "-----------------------------------------------\n",
      "Finished project: Cohere - TYPHOON AI 2 70B\n",
      "\\n#==================================#\\n\n",
      "\\n#==================================#\\n\n",
      "Vector Name: bge_m3\n",
      "Model Name: llama33_70\n",
      "Setting project to: BGE M3 - LLaMA3.3 70B\n",
      "Processing Question 1...\n",
      "Question-Answering Test 1:\n",
      "  Question: วิชาที่เปิดสอนสำหรับภาควิชาเคมีชั้่นปีที่ 1 ปีการศึกษา 2567 เทอม 1 มาสัก 1 วิชา\n",
      "  Answer: วิชา \"เคมีทั่วไป\" หรือ \"GENERAL CHEMISTRY\" รหัสวิชา 513100-165 เป็นวิชาที่เปิดสอนสำหรับภาควิชาเคมีชั้นปีที่ 1 ในปีการศึกษา 2567 เทอม 1\n",
      "-----------------------------------------------\n",
      "Processing Question 2...\n",
      "Question-Answering Test 2:\n",
      "  Question: ช่วยแนะนำวิชาสำหรับภาควิชาคณิตศาสตร์หน่อยสัก 1 วิชา\n",
      "  Answer: สำหรับภาควิชาคณิตศาสตร์แนะนำวิชา \"เรื่องคัดเฉพาะทางคณิตศาสตร์ 1 หรือ SELECTED TOPICS IN MATHEMATICS I\" รหัสวิชา 511481-2560 จำนวน 3 หน่วยกิต ซึ่งเป็นวิชาบังคับของสาขาคณิตปี4-8 และไม่มีเงื่อนไขการลงทะเบียนเรียน โดยเรียนที่วิทย์4 ห้อง 4320 พฤหัสบดี 13:00-15:40 น. สอนโดยศาสตราจารย์ ดร.ไพโรจน์ สัตยธรรม\n",
      "-----------------------------------------------\n",
      "Finished project: BGE M3 - LLaMA3.3 70B\n",
      "\\n#==================================#\\n\n",
      "Model Name: typhoon2_70\n",
      "Setting project to: BGE M3 - TYPHOON AI 2 70B\n",
      "Processing Question 1...\n",
      "Question-Answering Test 1:\n",
      "  Question: วิชาที่เปิดสอนสำหรับภาควิชาเคมีชั้่นปีที่ 1 ปีการศึกษา 2567 เทอม 1 มาสัก 1 วิชา\n",
      "  Answer: สำหรับภาควิชาเคมีชั้นปีที่ 1 ในปีการศึกษา 2567 เทอม 1 มีวิชา \"เคมีทั่วไป\" (GENERAL CHEMISTRY) รหัสวิชา 513100-165 จำนวนหน่วยกิต 3 หน่วย โดยไม่มีเงื่อนไขการลงทะเบียนเรียน และมีอาจารย์ผู้สอน ได้แก่ อาจารย์ ดร.ศิริรัตน์ ชูสกุลเกรียง, ผู้ช่วยศาสตราจารย์ ดร.สุนทร สุวอเขียว และอาจารย์ ดร.นัฐธพล ยอดศิลป์\n",
      "-----------------------------------------------\n",
      "Processing Question 2...\n",
      "Question-Answering Test 2:\n",
      "  Question: ช่วยแนะนำวิชาสำหรับภาควิชาคณิตศาสตร์หน่อยสัก 1 วิชา\n",
      "  Answer: สำหรับภาควิชาคณิตศาสตร์ ขอแนะนำวิชา \"เรื่องคัดเฉพาะทางคณิตศาสตร์ 1\" (SELECTED TOPICS IN MATHEMATICS I) รหัสวิชา 511481-2560 จำนวนหน่วยกิต 3 หน่วยกิต ซึ่งเป็นวิชาที่ไม่มีเงื่อนไขการลงทะเบียนเรียน และมีรายละเอียดการเรียนการสอนเกี่ยวกับเรื่องที่น่าสนใจทางคณิตศาสตร์ โดยมีอาจารย์ผู้สอนคือ ศาสตราจารย์ ดร.ไพโรจน์ สัตยธรรม และมีตารางเรียนในวันพฤหัสบดี เวลา 13:00-15:40 น. ในห้องเรียน 4320 ว.4 อาคารวิทย์4 ประเภทการสอนเป็น Lecture (ทฤษฎี)\n",
      "-----------------------------------------------\n",
      "Finished project: BGE M3 - TYPHOON AI 2 70B\n",
      "\\n#==================================#\\n\n",
      "\\n#==================================#\\n\n"
     ]
    }
   ],
   "source": [
    "project_index = 0\n",
    "for vector_name, vectorstore in vectorstores.items():\n",
    "    print(f'Vector Name: {vector_name}')\n",
    "\n",
    "    for model_name, llm in llms.items():\n",
    "        current_project = projects[project_index]\n",
    "\n",
    "        print(f'Model Name: {model_name}')\n",
    "        print(f'Setting project to: {current_project}')\n",
    "\n",
    "        minute_start_time = time.time()\n",
    "        request_count_per_minute = 0\n",
    "        \n",
    "        LANGSMITH_TRACING= True\n",
    "        LANGSMITH_ENDPOINT= \"https://api.smith.langchain.com\"\n",
    "        LANGSMITH_API_KEY= langsmith_api_key\n",
    "\n",
    "        os.environ['LANGSMITH_PROJECT'] = current_project\n",
    "        \n",
    "        \n",
    "        # Create the chain with the updated environment\n",
    "        retriever_chain = build_retriever_chain(llm, vectorstore)\n",
    "        \n",
    "        # Process questions...\n",
    "        for i, question in enumerate(samples):\n",
    "\n",
    "\n",
    "            if model_name == 'typhoon2_70':  \n",
    "                time.sleep(0.2)\n",
    "\n",
    "                # จัดการกับข้อจำกัด 50 requests/minute\n",
    "                request_count_per_minute += 1\n",
    "                if request_count_per_minute >= 45:  # ตั้งไว้ที่ 45 เพื่อเผื่อความปลอดภัย\n",
    "                    elapsed_time = time.time() - minute_start_time\n",
    "                    if elapsed_time < 60:\n",
    "                        # ถ้ายังไม่ถึง 1 นาที แต่จำนวน request เกือบถึงขีดจำกัดแล้ว\n",
    "                        time_to_wait = 60 - elapsed_time\n",
    "                        print(f\"Approaching minute limit. Waiting {time_to_wait:.2f} seconds...\")\n",
    "                        time.sleep(time_to_wait)\n",
    "                    \n",
    "                    # รีเซ็ตตัวนับเมื่อเริ่มนาทีใหม่\n",
    "                    minute_start_time = time.time()\n",
    "                    request_count_per_minute = 0\n",
    "            \n",
    "            try:\n",
    "                print(f'Processing Question {i+1}...')\n",
    "                results = retriever_chain.invoke({'input': question})\n",
    "                print(f'Question-Answering Test {i+1}:')\n",
    "                print(f'  Question: {results[\"input\"]}')\n",
    "                print(f'  Answer: {results[\"answer\"]}')\n",
    "            except Exception as e:\n",
    "                print(f'Error on question {i+1}: {str(e)}')\n",
    "                if 'rate limit' in str(e).lower():\n",
    "                    wait_time = 15  # รอนานขึ้นถ้าเจอ rate limit error\n",
    "                    print(f\"Rate limit hit. Waiting {wait_time} seconds...\")\n",
    "                    time.sleep(wait_time)\n",
    "                    # ลองอีกครั้ง\n",
    "                    try:\n",
    "                        results = retriever_chain.invoke({'input': question})\n",
    "                        print(f'Question-Answering Test {i+1} (retry):')\n",
    "                        print(f'  Question: {results[\"input\"]}')\n",
    "                        print(f'  Answer: {results[\"answer\"]}')\n",
    "                    except Exception as retry_error:\n",
    "                        print(f'Retry failed: {str(retry_error)}')\n",
    "            \n",
    "            print('-----------------------------------------------')\n",
    "\n",
    "        project_index += 1\n",
    "        print(f'Finished project: {current_project}')\n",
    "        print('\\\\n#==================================#\\\\n')\n",
    "\n",
    "    print('\\\\n#==================================#\\\\n')"
   ]
  }
 ],
 "metadata": {
  "kernelspec": {
   "display_name": "LangChain",
   "language": "python",
   "name": "python3"
  },
  "language_info": {
   "codemirror_mode": {
    "name": "ipython",
    "version": 3
   },
   "file_extension": ".py",
   "mimetype": "text/x-python",
   "name": "python",
   "nbconvert_exporter": "python",
   "pygments_lexer": "ipython3",
   "version": "3.12.0"
  }
 },
 "nbformat": 4,
 "nbformat_minor": 2
}
