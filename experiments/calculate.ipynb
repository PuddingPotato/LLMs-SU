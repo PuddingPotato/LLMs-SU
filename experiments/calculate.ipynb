{
 "cells": [
  {
   "cell_type": "code",
   "execution_count": 16,
   "metadata": {},
   "outputs": [],
   "source": [
    "import pandas as pd\n",
    "import os"
   ]
  },
  {
   "cell_type": "code",
   "execution_count": 17,
   "metadata": {},
   "outputs": [
    {
     "data": {
      "text/plain": [
       "['bgem3_llama_history.csv',\n",
       " 'bgem3_typhoon_history.csv',\n",
       " 'cohere_llama_history.csv',\n",
       " 'cohere_typhoon_history.csv']"
      ]
     },
     "execution_count": 17,
     "metadata": {},
     "output_type": "execute_result"
    }
   ],
   "source": [
    "data_dir = r'C:\\Users\\User\\Desktop\\Project LLMs\\RAG-LangChain\\experiments\\test_results'\n",
    "data = os.listdir(data_dir)\n",
    "data"
   ]
  },
  {
   "cell_type": "code",
   "execution_count": 18,
   "metadata": {},
   "outputs": [
    {
     "name": "stdout",
     "output_type": "stream",
     "text": [
      "Data Name: bgem3_llama_history.csv\n",
      "Average MRR@4: 19/40: 0.475 (Score 100%: 19, Score <=50% : 21)\n",
      "Average Precision ALL: 28/40: 0.7 (Score 100%: 28, Score <=50% : 12)\n",
      "Average Precision with MRR: 19/19: 1.0 (Score 100%: 19, Score <=50% : 0)\n",
      "\n",
      "\n",
      "Data Name: bgem3_typhoon_history.csv\n",
      "Average MRR@4: 19/40: 0.475 (Score 100%: 19, Score <=50% : 21)\n",
      "Average Precision ALL: 25/40: 0.625 (Score 100%: 25, Score <=50% : 15)\n",
      "Average Precision with MRR: 19/19: 1.0 (Score 100%: 19, Score <=50% : 0)\n",
      "\n",
      "\n",
      "Data Name: cohere_llama_history.csv\n",
      "Average MRR@4: 26.0/40: 0.65 (Score 100%: 24, Score <=50% : 16)\n",
      "Average Precision ALL: 32/40: 0.8 (Score 100%: 32, Score <=50% : 8)\n",
      "Average Precision with MRR: 27/28: 0.9642857142857143 (Score 100%: 27, Score <=50% : 1)\n",
      "\n",
      "\n",
      "Data Name: cohere_typhoon_history.csv\n",
      "Average MRR@4: 26.0/40: 0.65 (Score 100%: 24, Score <=50% : 16)\n",
      "Average Precision ALL: 33/40: 0.825 (Score 100%: 33, Score <=50% : 7)\n",
      "Average Precision with MRR: 27/28: 0.9642857142857143 (Score 100%: 27, Score <=50% : 1)\n",
      "\n",
      "\n"
     ]
    }
   ],
   "source": [
    "for i in data:\n",
    "    df = pd.read_csv(rf'{data_dir}\\{i}', usecols = ['mrr_score','precision_score'])\n",
    "    print(f'Data Name: {i}')\n",
    "    \n",
    "    avg_mrr = sum(df['mrr_score'])/len(df)\n",
    "    print(f'Average MRR@4: {sum(df['mrr_score'])}/{len(df)}: {avg_mrr} (Score 100%: {len(df[df['mrr_score'] == 1])}, Score <=50% : {len(df[df['mrr_score'] <= 0.5])})')\n",
    "\n",
    "    avg_precision_all = sum(df['precision_score'])/len(df)\n",
    "    print(f'Average Precision ALL: {sum(df['precision_score'])}/{len(df)}: {avg_precision_all} (Score 100%: {len(df[df['precision_score'] == 1])}, Score <=50% : {len(df[df['precision_score'] <= 0.5])})')\n",
    "\n",
    "    filterd_df = df[df['mrr_score'] > 0]\n",
    "    avg_precision_with_mrr = sum(filterd_df['precision_score'])/len(filterd_df)\n",
    "    print(f'Average Precision with MRR: {sum(filterd_df['precision_score'])}/{len(filterd_df)}: {avg_precision_with_mrr} (Score 100%: {len(filterd_df[filterd_df['precision_score'] == 1])}, Score <=50% : {len(filterd_df[filterd_df['precision_score'] <= 0.5])})')\n",
    "    print('\\n')"
   ]
  },
  {
   "cell_type": "code",
   "execution_count": null,
   "metadata": {},
   "outputs": [],
   "source": []
  }
 ],
 "metadata": {
  "kernelspec": {
   "display_name": "LangChain",
   "language": "python",
   "name": "python3"
  },
  "language_info": {
   "codemirror_mode": {
    "name": "ipython",
    "version": 3
   },
   "file_extension": ".py",
   "mimetype": "text/x-python",
   "name": "python",
   "nbconvert_exporter": "python",
   "pygments_lexer": "ipython3",
   "version": "3.12.0"
  }
 },
 "nbformat": 4,
 "nbformat_minor": 2
}
